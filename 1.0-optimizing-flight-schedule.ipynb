{
 "cells": [
  {
   "cell_type": "markdown",
   "source": [
    "# Problem Statement"
   ],
   "metadata": {
    "collapsed": false
   },
   "id": "f673b96aa0c3d325"
  },
  {
   "cell_type": "markdown",
   "source": [
    "## Objective: \n",
    "- Minimize the total operational cost, which includes costs associated with assigning flights to time slots and aircraft, as well as possible penalties for unmet constraints.\n",
    "## Constraints:\n",
    "- **Aircraft availability:** Each aircraft can only be used for one flight at a time.\n",
    "- **Flight schedule**\n",
    "- **Crew assignment:** Each aircraft must have at least one crew\n"
   ],
   "metadata": {
    "collapsed": false
   },
   "id": "1fda3befed2a0bf9"
  },
  {
   "cell_type": "markdown",
   "source": [
    "# Mathematical Formulation"
   ],
   "metadata": {
    "collapsed": false
   },
   "id": "24dc7e959b6c03cc"
  },
  {
   "cell_type": "markdown",
   "source": [
    "**Index**:\n",
    "- $i \\in F $: Set of flights\n",
    "- $a \\in A $: Set of aircraft\n",
    "- $t \\in T $: Set of time slot\n",
    "\n",
    "\n",
    "**Decision Variables**:\n",
    "- $ x_{it} $: Binary decision variable indicating flight $i$ is assigned to timeslot $t$\n",
    "- $ y_{ia} $: Binary decision variable indicating whether aircraft $a$ is used for flight $i$.\n",
    "\n",
    "**Parameters**:\n",
    "$c_{it}$: cost of assigning flight i to time slot t\n",
    "$\\tau_{ia}$: cost of using aircraft a for flight i\n",
    "$\\delta_i$: Duration of flight i\n",
    "$m_a$: maintenance requirement of aircraft a\n",
    "$\\alpha_a$: Available slot\n",
    "\n",
    "\n",
    "**Objective Function**: Minimize the total operational cost, which includes costs associated with assigning flights to time slots and aircraft\n",
    "$$ \\text{Minimize } \\sum_{i} \\sum_{t} c_{it }  x_{it} + \\sum_{i} \\sum_{a} \\tau_{ia} y_{ia} $$\n",
    "\n",
    "**Constraints**:\n",
    "1. **Flight Assignment**: Each flight must be assigned exactly one time slot.\n",
    "$$ \\sum_{t} x_{it} = 1  \\quad  \\forall i$$\n",
    "\n",
    "2. **Time Slot Capacity**: Each time slot can accommodate at most one flight.\n",
    "$$ \\sum_{i} x_{it} \\leq 1 \\quad \\forall t$$\n",
    "\n",
    "3. **Aircraft Assignment**: Each flight must be assigned exactly one aircraft\n",
    "$$ \\sum_{a} y_{ia} = 1 \\quad \\forall i$$\n",
    "\n",
    "4. **Aircraft Availability**: Each aircraft can handle only one flight at a time.\n",
    "$$ \\sum_{i} y_{ia} \\leq $\\alpha_a$ \\quad \\forall a$$\n",
    "\n",
    "5. **Maintenance Scheduling**: Ensure aircraft maintenance requirements are met.\n",
    "$$ \\sum_{i,t:t<=$\\delta_i$} y_{ia}*\\delta_i \\leq $m_a$ \\quad \\forall a$$\n",
    "\n",
    "6. **Range Constraint**\n",
    "$$ x_{it}, y_{ia} = \\{0,1\\}  $$"
   ],
   "metadata": {
    "collapsed": false
   },
   "id": "cccd5d0576c08579"
  },
  {
   "cell_type": "markdown",
   "source": [
    "# Pyomo implementation"
   ],
   "metadata": {
    "collapsed": false
   },
   "id": "2b028849ef573bb3"
  },
  {
   "cell_type": "code",
   "outputs": [],
   "source": [],
   "metadata": {
    "collapsed": false,
    "ExecuteTime": {
     "end_time": "2024-07-11T23:38:02.635578Z",
     "start_time": "2024-07-11T23:38:02.630460Z"
    }
   },
   "id": "82a9c1dfcab263db",
   "execution_count": null
  },
  {
   "cell_type": "code",
   "outputs": [
    {
     "name": "stdout",
     "output_type": "stream",
     "text": [
      "Version identifier: 22.1.1.0 | 2023-06-15 | d64d5bd77\n",
      "CPXPARAM_Read_DataCheck                          1\n",
      "Found incumbent of value 520.000000 after 0.00 sec. (0.00 ticks)\n",
      "Tried aggregator 2 times.\n",
      "MIP Presolve eliminated 4 rows and 3 columns.\n",
      "MIP Presolve modified 10 coefficients.\n",
      "Aggregator did 3 substitutions.\n",
      "Reduced MIP has 6 rows, 9 columns, and 18 nonzeros.\n",
      "Reduced MIP has 9 binaries, 0 generals, 0 SOSs, and 0 indicators.\n",
      "Presolve time = 0.00 sec. (0.03 ticks)\n",
      "Probing time = 0.00 sec. (0.00 ticks)\n",
      "Tried aggregator 1 time.\n",
      "Detecting symmetries...\n",
      "Reduced MIP has 6 rows, 9 columns, and 18 nonzeros.\n",
      "Reduced MIP has 9 binaries, 0 generals, 0 SOSs, and 0 indicators.\n",
      "Presolve time = 0.00 sec. (0.01 ticks)\n",
      "Probing time = 0.00 sec. (0.00 ticks)\n",
      "Clique table members: 6.\n",
      "MIP emphasis: balance optimality and feasibility.\n",
      "MIP search method: dynamic search.\n",
      "Parallel mode: deterministic, using up to 8 threads.\n",
      "Root relaxation solution time = 0.00 sec. (0.01 ticks)\n",
      "\n",
      "        Nodes                                         Cuts/\n",
      "   Node  Left     Objective  IInf  Best Integer    Best Bound    ItCnt     Gap\n",
      "\n",
      "*     0+    0                          520.0000      170.0000            67.31%\n",
      "      0     0        cutoff            520.0000                      0    0.00%\n",
      "\n",
      "Root node processing (before b&c):\n",
      "  Real time             =    0.00 sec. (0.07 ticks)\n",
      "Parallel b&c, 8 threads:\n",
      "  Real time             =    0.00 sec. (0.00 ticks)\n",
      "  Sync time (average)   =    0.00 sec.\n",
      "  Wait time (average)   =    0.00 sec.\n",
      "                          ------------\n",
      "Total (root+branch&cut) =    0.00 sec. (0.07 ticks)\n",
      "Flight F1 is assigned to time slot T1\n",
      "Flight F1 is assigned to aircraft A1\n",
      "Flight F2 is assigned to time slot T2\n",
      "Flight F2 is assigned to aircraft A1\n",
      "Flight F3 is assigned to time slot T3\n",
      "Flight F3 is assigned to aircraft A2\n"
     ]
    }
   ],
   "source": [
    "from pyomo.environ import ConcreteModel, Var, Constraint, Set, Binary, Objective, minimize\n",
    "from pyomo.opt import SolverFactory\n",
    "\n",
    "# Sample data\n",
    "flights = ['F1', 'F2', 'F3']\n",
    "time_slots = ['T1', 'T2', 'T3']\n",
    "aircraft = ['A1', 'A2']\n",
    "costs = {\n",
    "    ('F1', 'T1'): 100, ('F1', 'T2'): 200, ('F1', 'T3'): 300,\n",
    "    ('F2', 'T1'): 200, ('F2', 'T2'): 150, ('F2', 'T3'): 250,\n",
    "    ('F3', 'T1'): 300, ('F3', 'T2'): 250, ('F3', 'T3'): 100\n",
    "}\n",
    "aircraft_flight_costs = {\n",
    "    ('A1', 'F1'): 50, ('A1', 'F2'): 70, ('A1', 'F3'): 60,\n",
    "    ('A2', 'F1'): 60, ('A2', 'F2'): 80, ('A2', 'F3'): 50\n",
    "}\n",
    "flight_duration = {'F1': 2, 'F2': 3, 'F3': 1}\n",
    "maintenance_req = {'A1': 5, 'A2': 5}\n",
    "available_slots = {'A1': 2, 'A2': 2}\n",
    "\n",
    "# Create a model\n",
    "model = ConcreteModel()\n",
    "\n",
    "# Define sets\n",
    "model.Flights = Set(initialize=flights)\n",
    "model.TimeSlots = Set(initialize=time_slots)\n",
    "model.Aircraft = Set(initialize=aircraft)\n",
    "\n",
    "# Define variables\n",
    "model.x = Var(model.Flights, model.TimeSlots, within=Binary)\n",
    "model.y = Var(model.Flights, model.Aircraft, within=Binary)\n",
    "\n",
    "# Objective function\n",
    "def obj_rule(model):\n",
    "    return sum(costs[i, j] * model.x[i, j] for i in model.Flights for j in model.TimeSlots) + \\\n",
    "           sum(aircraft_flight_costs[k, i] * model.y[i, k] for i in model.Flights for k in model.Aircraft)\n",
    "model.obj = Objective(rule=obj_rule, sense=minimize)\n",
    "\n",
    "# Constraints\n",
    "def flight_assignment_rule(model, i):\n",
    "    return sum(model.x[i, j] for j in model.TimeSlots) == 1\n",
    "model.flight_assignment = Constraint(model.Flights, rule=flight_assignment_rule)\n",
    "\n",
    "def timeslot_assignment_rule(model, j):\n",
    "    return sum(model.x[i, j] for i in model.Flights) <= 1\n",
    "model.timeslot_assignment = Constraint(model.TimeSlots, rule=timeslot_assignment_rule)\n",
    "\n",
    "def aircraft_assignment_rule(model, i):\n",
    "    return sum(model.y[i, k] for k in model.Aircraft) == 1\n",
    "model.aircraft_assignment = Constraint(model.Flights, rule=aircraft_assignment_rule)\n",
    "\n",
    "def aircraft_limit_rule(model, k):\n",
    "    return sum(model.y[i, k] for i in model.Flights) <= available_slots[k]\n",
    "model.aircraft_limit = Constraint(model.Aircraft, rule=aircraft_limit_rule)\n",
    "\n",
    "def maintenance_rule(model, k):\n",
    "    return sum(flight_duration[i] * model.y[i, k] for i in model.Flights) <= maintenance_req[k]\n",
    "model.maintenance = Constraint(model.Aircraft, rule=maintenance_rule)\n",
    "\n",
    "# Solve the model\n",
    "solver = SolverFactory('cplex_direct')\n",
    "solver.solve(model, tee=True)\n",
    "\n",
    "# Display results\n",
    "for i in model.Flights:\n",
    "    for j in model.TimeSlots:\n",
    "        if model.x[i, j].value == 1:\n",
    "            print(f\"Flight {i} is assigned to time slot {j}\")\n",
    "    for k in model.Aircraft:\n",
    "        if model.y[i, k].value == 1:\n",
    "            print(f\"Flight {i} is assigned to aircraft {k}\")\n"
   ],
   "metadata": {
    "collapsed": false,
    "ExecuteTime": {
     "end_time": "2024-07-11T23:38:02.860268Z",
     "start_time": "2024-07-11T23:38:02.640652Z"
    }
   },
   "id": "a0bc4feb110a3c28",
   "execution_count": 1
  },
  {
   "cell_type": "code",
   "outputs": [],
   "source": [],
   "metadata": {
    "collapsed": false,
    "ExecuteTime": {
     "end_time": "2024-07-11T23:38:02.860513Z",
     "start_time": "2024-07-11T23:38:02.858198Z"
    }
   },
   "id": "b0bc46783d48d30a",
   "execution_count": 1
  },
  {
   "cell_type": "code",
   "outputs": [],
   "source": [],
   "metadata": {
    "collapsed": false,
    "ExecuteTime": {
     "end_time": "2024-07-11T23:38:02.863002Z",
     "start_time": "2024-07-11T23:38:02.859877Z"
    }
   },
   "id": "1e235c2f25546024",
   "execution_count": 1
  }
 ],
 "metadata": {
  "kernelspec": {
   "display_name": "Python 3",
   "language": "python",
   "name": "python3"
  },
  "language_info": {
   "codemirror_mode": {
    "name": "ipython",
    "version": 2
   },
   "file_extension": ".py",
   "mimetype": "text/x-python",
   "name": "python",
   "nbconvert_exporter": "python",
   "pygments_lexer": "ipython2",
   "version": "2.7.6"
  }
 },
 "nbformat": 4,
 "nbformat_minor": 5
}
