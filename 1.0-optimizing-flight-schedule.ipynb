{
 "cells": [
  {
   "cell_type": "markdown",
   "source": [
    "# Problem Statement"
   ],
   "metadata": {
    "collapsed": false
   },
   "id": "f673b96aa0c3d325"
  },
  {
   "cell_type": "markdown",
   "source": [
    "## Objective: \n",
    "- Minimize the total operational costs, which may include fuel costs, crew costs, and delay costs, or maximize revenue.\n",
    "## Constraints:\n",
    "- **Aircraft availability:** Each aircraft can only be used for one flight at a time.\n",
    "- **Flight schedule**\n",
    "- **Crew assignment:** Each aircraft must have at least one crew\n"
   ],
   "metadata": {
    "collapsed": false
   },
   "id": "1fda3befed2a0bf9"
  },
  {
   "cell_type": "markdown",
   "source": [
    "# Mathematical Formulation"
   ],
   "metadata": {
    "collapsed": false
   },
   "id": "24dc7e959b6c03cc"
  },
  {
   "cell_type": "markdown",
   "source": [
    "**Index**:\n",
    "- $i \\in F $: Index of flights\n",
    "- $a $: Index of aircraft\n",
    "- $c$: Index of crew\n",
    "\n",
    "\n",
    "**Decision Variables**:\n",
    "- $ x_{ia} $: Binary decision variable indicating flight $i$ is assigned to aircraft $a$\n",
    "- $ y_{ic} $: Binary decision variable indicating crew $c$ is assigned to flight $i$\n",
    "\n",
    "\n",
    "**Objective Function**:\n",
    "$$ \\text{Minimize } \\sum_{i} \\sum_{a} CA_{ia} x_{ia} + \\sum_{i} \\sum_{c} CC_{ic} y_{ic} $$\n",
    "\n",
    "**Constraints**:\n",
    "1. **Aircraft availability**:\n",
    "$$ \\sum_{a} x_{ia} = 1  \\quad  \\forall i$$\n",
    "\n",
    "2. **Flight constraint**:\n",
    "$$ \\sum_{i} x_{ia} \\leq 1 \\quad \\forall a $$\n",
    "\n",
    "3. **Crew assignment**:\n",
    "$$ \\sum_{c} y_{ic} = 1 \\quad \\forall i  $$\n",
    "\n",
    "4. **Range Constraint**\n",
    "$$ x_{ia}, y_{ic} = \\{0,1\\}  $$"
   ],
   "metadata": {
    "collapsed": false
   },
   "id": "cccd5d0576c08579"
  },
  {
   "cell_type": "markdown",
   "source": [
    "# Pyomo implementation"
   ],
   "metadata": {
    "collapsed": false
   },
   "id": "2b028849ef573bb3"
  },
  {
   "cell_type": "code",
   "outputs": [],
   "source": [
    "# !pip install pyomo"
   ],
   "metadata": {
    "collapsed": false,
    "ExecuteTime": {
     "end_time": "2024-06-25T22:35:34.135274Z",
     "start_time": "2024-06-25T22:35:34.131821Z"
    }
   },
   "id": "82a9c1dfcab263db",
   "execution_count": 3
  },
  {
   "cell_type": "code",
   "outputs": [],
   "source": [
    "from pyomo.environ import *\n",
    "from pyomo.opt import SolverFactory\n",
    "\n",
    "# Define the sets\n",
    "flights = range(1, 11)  # Example: 10 flights\n",
    "aircraft = range(1, 6)  # Example: 5 aircraft\n",
    "crew = range(1, 8)      # Example: 7 crew members\n",
    "\n",
    "# Define the parameters\n",
    "c = {(i, a): 100 + i * a for i in flights for a in aircraft}  # Cost of assigning flight to aircraft\n",
    "d = {(i, c): 50 + i * c for i in flights for c in crew}       # Cost of assigning flight to crew\n",
    "\n",
    "# Create a model\n",
    "model = ConcreteModel()\n",
    "\n",
    "# Define decision variables\n",
    "model.x = Var(flights, aircraft, within=Binary)\n",
    "model.y = Var(flights, crew, within=Binary)\n",
    "\n",
    "# Objective function\n",
    "model.obj = Objective(expr=sum(c[i, a] * model.x[i, a] for i in flights for a in aircraft) +\n",
    "                           sum(d[i, c] * model.y[i, c] for i in flights for c in crew), \n",
    "                      sense=minimize)\n",
    "\n",
    "# Constraints\n",
    "# Each flight is assigned to exactly one aircraft\n",
    "model.flight_assignment = ConstraintList()\n",
    "for i in flights:\n",
    "    model.flight_assignment.add(sum(model.x[i, a] for a in aircraft) == 1)\n",
    "\n",
    "# Each aircraft can be assigned to at most one flight at any time\n",
    "# (for simplicity, ignoring time slots in this example)\n",
    "model.aircraft_usage = ConstraintList()\n",
    "for a in aircraft:\n",
    "    model.aircraft_usage.add(sum(model.x[i, a] for i in flights) <= 1)\n",
    "\n",
    "# Crew assignment (each flight needs at least one crew)\n",
    "model.crew_assignment = ConstraintList()\n",
    "for i in flights:\n",
    "    model.crew_assignment.add(sum(model.y[i, c] for c in crew) >= 1)\n",
    "\n",
    "# Solve the model using CPLEX\n",
    "opt = SolverFactory('cplex')\n",
    "results = opt.solve(model, tee=True)\n",
    "\n",
    "# Display results\n",
    "model.pprint()\n",
    "\n",
    "# Extract the solution\n",
    "assigned_flights = [(i, a) for i in flights for a in aircraft if model.x[i, a].value == 1]\n",
    "assigned_crew = [(i, c) for i in flights for c in crew if model.y[i, c].value == 1]\n",
    "\n",
    "print(\"Assigned Flights to Aircraft:\")\n",
    "for i, a in assigned_flights:\n",
    "    print(f\"Flight {i} -> Aircraft {a}\")\n",
    "\n",
    "print(\"Assigned Crew to Flights:\")\n",
    "for i, c in assigned_crew:\n",
    "    print(f\"Flight {i} -> Crew {c}\")\n"
   ],
   "metadata": {
    "collapsed": false
   },
   "id": "a0bc4feb110a3c28",
   "execution_count": null
  }
 ],
 "metadata": {
  "kernelspec": {
   "display_name": "Python 3",
   "language": "python",
   "name": "python3"
  },
  "language_info": {
   "codemirror_mode": {
    "name": "ipython",
    "version": 2
   },
   "file_extension": ".py",
   "mimetype": "text/x-python",
   "name": "python",
   "nbconvert_exporter": "python",
   "pygments_lexer": "ipython2",
   "version": "2.7.6"
  }
 },
 "nbformat": 4,
 "nbformat_minor": 5
}
